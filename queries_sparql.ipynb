{
 "metadata": {
  "language_info": {
   "codemirror_mode": {
    "name": "ipython",
    "version": 3
   },
   "file_extension": ".py",
   "mimetype": "text/x-python",
   "name": "python",
   "nbconvert_exporter": "python",
   "pygments_lexer": "ipython3",
   "version": "3.6.8"
  },
  "orig_nbformat": 2,
  "kernelspec": {
   "name": "python3",
   "display_name": "Python 3.6.8 64-bit"
  },
  "metadata": {
   "interpreter": {
    "hash": "9248261a3445304db021f29be6be5ef89305ade77e81d567579c1e894661b704"
   }
  },
  "interpreter": {
   "hash": "9248261a3445304db021f29be6be5ef89305ade77e81d567579c1e894661b704"
  }
 },
 "nbformat": 4,
 "nbformat_minor": 2,
 "cells": [
  {
   "cell_type": "code",
   "execution_count": 1,
   "metadata": {},
   "outputs": [],
   "source": [
    "from rdflib import Graph\n",
    "import pprint"
   ]
  },
  {
   "cell_type": "code",
   "execution_count": 2,
   "metadata": {},
   "outputs": [
    {
     "output_type": "execute_result",
     "data": {
      "text/plain": [
       "<Graph identifier=Ne848499b7c3d440da2364be46a801766 (<class 'rdflib.graph.Graph'>)>"
      ]
     },
     "metadata": {},
     "execution_count": 2
    }
   ],
   "source": [
    "g = Graph()\n",
    "g.parse(\"outputs/output.txt\", format=\"turtle\")"
   ]
  },
  {
   "cell_type": "code",
   "execution_count": 3,
   "metadata": {},
   "outputs": [
    {
     "output_type": "stream",
     "name": "stdout",
     "text": [
      "Country Name              Parent Feature ID                     Country ID                         \n",
      "Αυστρία                   https://sws.geonames.org/12217848/    https://sws.geonames.org/2782113/  \n",
      "Σλοβενία                  https://sws.geonames.org/12217848/    https://sws.geonames.org/3190538/  \n",
      "Πολωνία                   https://sws.geonames.org/12217848/    https://sws.geonames.org/798544/   \n",
      "Γερμανία                  https://sws.geonames.org/12217848/    https://sws.geonames.org/2921044/  \n",
      "Σλοβακία                  https://sws.geonames.org/12217848/    https://sws.geonames.org/3057568/  \n",
      "Τσεχία                    https://sws.geonames.org/12217848/    https://sws.geonames.org/3077311/  \n",
      "Ουγγαρία                  https://sws.geonames.org/12217848/    https://sws.geonames.org/719819/   \n",
      "Βέλγιο                    https://sws.geonames.org/9408659/     https://sws.geonames.org/2802361/  \n",
      "Γερμανία                  https://sws.geonames.org/9408659/     https://sws.geonames.org/2921044/  \n",
      "Γαλλία                    https://sws.geonames.org/9408659/     https://sws.geonames.org/3017382/  \n",
      "Αυστρία                   https://sws.geonames.org/9408659/     https://sws.geonames.org/2782113/  \n",
      "Ολλανδία                  https://sws.geonames.org/9408659/     https://sws.geonames.org/2750405/  \n",
      "Λουξεμβούργο              https://sws.geonames.org/9408659/     https://sws.geonames.org/2960313/  \n",
      "Σλοβενία                  https://sws.geonames.org/6695072/     https://sws.geonames.org/3190538/  \n",
      "Ρουμανία                  https://sws.geonames.org/6695072/     https://sws.geonames.org/798549/   \n",
      "Δημοκρατία της Ιρλανδίας  https://sws.geonames.org/6695072/     https://sws.geonames.org/2963597/  \n",
      "Ιρλανδία                  https://sws.geonames.org/6695072/     https://sws.geonames.org/2963597/  \n",
      "Δανία                     https://sws.geonames.org/6695072/     https://sws.geonames.org/2623032/  \n",
      "Μάλτα                     https://sws.geonames.org/6695072/     https://sws.geonames.org/2562770/  \n",
      "Ολλανδία                  https://sws.geonames.org/6695072/     https://sws.geonames.org/2750405/  \n",
      "Κροατία                   https://sws.geonames.org/6695072/     https://sws.geonames.org/3202326/  \n",
      "Kýpros                    https://sws.geonames.org/6695072/     https://sws.geonames.org/146669/   \n",
      "Kypriakí Dimokratía       https://sws.geonames.org/6695072/     https://sws.geonames.org/146669/   \n",
      "Κυπριακή Δημοκρατία       https://sws.geonames.org/6695072/     https://sws.geonames.org/146669/   \n",
      "Kipriakí Dhimokratía      https://sws.geonames.org/6695072/     https://sws.geonames.org/146669/   \n",
      "Πορτογαλία                https://sws.geonames.org/6695072/     https://sws.geonames.org/2264397/  \n",
      "Εσθονία                   https://sws.geonames.org/6695072/     https://sws.geonames.org/453733/   \n",
      "Λιθουανία                 https://sws.geonames.org/6695072/     https://sws.geonames.org/597427/   \n",
      "Βέλγιο                    https://sws.geonames.org/6695072/     https://sws.geonames.org/2802361/  \n",
      "Λετονία                   https://sws.geonames.org/6695072/     https://sws.geonames.org/458258/   \n",
      "Λεττονία                  https://sws.geonames.org/6695072/     https://sws.geonames.org/458258/   \n",
      "Γερμανία                  https://sws.geonames.org/6695072/     https://sws.geonames.org/2921044/  \n",
      "Λουξεμβούργο              https://sws.geonames.org/6695072/     https://sws.geonames.org/2960313/  \n",
      "Ιταλία                    https://sws.geonames.org/6695072/     https://sws.geonames.org/3175395/  \n",
      "Ισπανία                   https://sws.geonames.org/6695072/     https://sws.geonames.org/2510769/  \n",
      "Αυστρία                   https://sws.geonames.org/6695072/     https://sws.geonames.org/2782113/  \n",
      "Σουηδία                   https://sws.geonames.org/6695072/     https://sws.geonames.org/2661886/  \n",
      "Σλοβακία                  https://sws.geonames.org/6695072/     https://sws.geonames.org/3057568/  \n",
      "Γαλλία                    https://sws.geonames.org/6695072/     https://sws.geonames.org/3017382/  \n",
      "Βουλγαρία                 https://sws.geonames.org/6695072/     https://sws.geonames.org/732800/   \n",
      "Τσεχία                    https://sws.geonames.org/6695072/     https://sws.geonames.org/3077311/  \n",
      "Φινλανδία                 https://sws.geonames.org/6695072/     https://sws.geonames.org/660013/   \n",
      "Ουγγαρία                  https://sws.geonames.org/6695072/     https://sws.geonames.org/719819/   \n",
      "Vasilion tis Ellados      https://sws.geonames.org/6695072/     https://sws.geonames.org/390903/   \n",
      "Ellinikí Dimokratía       https://sws.geonames.org/6695072/     https://sws.geonames.org/390903/   \n",
      "Ellinikí Dhimokratía      https://sws.geonames.org/6695072/     https://sws.geonames.org/390903/   \n",
      "Elláda                    https://sws.geonames.org/6695072/     https://sws.geonames.org/390903/   \n",
      "Ellás                     https://sws.geonames.org/6695072/     https://sws.geonames.org/390903/   \n",
      "Πολωνία                   https://sws.geonames.org/6695072/     https://sws.geonames.org/798544/   \n"
     ]
    }
   ],
   "source": [
    "qres = g.query(\n",
    "    \"\"\"\n",
    "    PREFIX xsd:  <http://www.w3.org/2001/XMLSchema#>\n",
    "    PREFIX geo:  <http://www.geonames.org/ontology#>\n",
    "    PREFIX my:   <http://my.uri/ontology/>\n",
    "    SELECT ?a ?b ?c\n",
    "       WHERE {\n",
    "          ?_ geo:name \"Germany\" ; \n",
    "           geo:parentFeature ?b .\n",
    "          ?c geo:parentFeature ?b .\n",
    "          ?c geo:alternateName ?a .\n",
    "          filter(lang(?a) = \"el\")\n",
    "       }\"\"\")\n",
    "\n",
    "print(\"{: <25} {: <35}   {: <35}\".format(\"Country Name\", \"Parent Feature ID\", \"Country ID\"))\n",
    "for row in qres:\n",
    "    print(\"{: <25} {: <35}   {: <35}\".format(row[0], row[1], row[2]))"
   ]
  },
  {
   "cell_type": "code",
   "execution_count": 4,
   "metadata": {},
   "outputs": [
    {
     "output_type": "stream",
     "name": "stdout",
     "text": [
      "Country Name              Population       Total May Vaccinations %\nAustria                   9015361          38.36          \nSlovenia                  2078989          33.80          \nPoland                    37839255         34.45          \nGermany                   83830972         40.04          \nSlovakia                  5460109          31.88          \nCzechia                   10712481         32.76          \nHungary                   9655983          66.99          \nSwitzerland               8665615          32.22          \n"
     ]
    }
   ],
   "source": [
    "qres = g.query(   \n",
    "    \"\"\"\n",
    "    PREFIX xsd:  <http://www.w3.org/2001/XMLSchema#>\n",
    "    PREFIX geo:  <http://www.geonames.org/ontology#>\n",
    "    PREFIX my:   <http://my.uri/ontology/>\n",
    "    SELECT ?a ?pop ?c\n",
    "       WHERE {\n",
    "          ?d geo:name ?a ;\n",
    "             geo:parentFeature <https://sws.geonames.org/12217848/> ;\n",
    "             my:population ?pop ;\n",
    "             my:may_total_vaccinations ?c .\n",
    "       }\"\"\")\n",
    "\n",
    "\n",
    "print(\"{: <25} {: <15}  {: <15}\".format(\"Country Name\", \"Population\", \"Total May Vaccinations %\"))\n",
    "for row in qres:\n",
    "    print(\"{: <25} {: <15}  {: <15}\".format(row[0], row[1], \"{:.2f}\".format(float(row[2]))))"
   ]
  },
  {
   "cell_type": "code",
   "execution_count": 5,
   "metadata": {},
   "outputs": [
    {
     "output_type": "stream",
     "name": "stdout",
     "text": [
      "Parent Feature ID                        Total Vaccinations         Total Population\nhttps://sws.geonames.org/9408658/        54636706                   148122497      \nhttps://sws.geonames.org/6695072/        164176267                  445294078      \nhttps://sws.geonames.org/12216908/       16112061                   60471243       \nhttps://sws.geonames.org/12217088/       116373164                  489091807      \n"
     ]
    }
   ],
   "source": [
    "qres = g.query(   \n",
    "    \"\"\"\n",
    "    PREFIX xsd:  <http://www.w3.org/2001/XMLSchema#>\n",
    "    PREFIX geo:  <http://www.geonames.org/ontology#>\n",
    "    PREFIX my:   <http://my.uri/ontology/>\n",
    "    SELECT DISTINCT ?b (SUM(?res) AS ?total_people) (SUM(?pop) as ?population)\n",
    "       WHERE {\n",
    "          ?_ geo:name \"Greece\" ; \n",
    "             geo:parentFeature ?b .\n",
    "          ?d geo:parentFeature ?b ;\n",
    "             my:may_total_vaccinations ?c ;\n",
    "             my:population ?pop .\n",
    "          BIND((?c*?pop/100) AS ?res)\n",
    "       }\n",
    "       GROUP BY ?b\"\"\")\n",
    "\n",
    "print(\"{: <40} {: <25}  {: <15}\".format(\"Parent Feature ID\", \"Total Vaccinations\", \"Total Population\"))\n",
    "for row in qres:\n",
    "    print(\"{: <40} {: <25}  {: <15}\".format(row[0], \"{:.0f}\".format(float(row[1])), row[2]))"
   ]
  },
  {
   "cell_type": "code",
   "execution_count": 6,
   "metadata": {},
   "outputs": [
    {
     "output_type": "stream",
     "name": "stdout",
     "text": [
      "Lithuania\nSouth Africa\nBelgium\nCzechia\nItaly\nLatvia\nSpain\nNetherlands\nGermany\nPoland\nAustria\nRomania\nFrance\n"
     ]
    }
   ],
   "source": [
    "qres = g.query(   \n",
    "    \"\"\"\n",
    "    PREFIX xsd:  <http://www.w3.org/2001/XMLSchema#>\n",
    "    PREFIX geo:  <http://www.geonames.org/ontology#>\n",
    "    PREFIX my:   <http://my.uri/ontology/>\n",
    "    SELECT ?a\n",
    "       WHERE {\n",
    "          ?b my:Johnson 1 .\n",
    "          ?b geo:name ?a\n",
    "       }\"\"\")\n",
    "\n",
    "for row in qres:\n",
    "    print(row[0])"
   ]
  },
  {
   "cell_type": "code",
   "execution_count": 7,
   "metadata": {},
   "outputs": [
    {
     "output_type": "stream",
     "name": "stdout",
     "text": [
      "Country Name               Country ID                         \n",
      "Ukraine                    2471.752                           \n",
      "Mexico                     8646.151                           \n",
      "Nicaragua                  1498.502                           \n",
      "Argentina                  8731.126                           \n",
      "Australia                  44709.85                           \n",
      "Honduras                   1740.344                           \n",
      "Nepal                      492.9654                           \n",
      "Kazakhstan                 7351.106                           \n",
      "Costa Rica                 7389.976                           \n",
      "Canada                     41053.51                           \n",
      "Armenia                    2690.334                           \n",
      "Djibouti                   1210.808                           \n",
      "Azerbaijan                 4218.524                           \n",
      "Zambia                     1129.012                           \n",
      "Philippines                1909.211                           \n",
      "Vietnam                    1226.9                             \n",
      "Senegal                    882.2761                           \n",
      "Guinea                     551.3373                           \n",
      "Botswana                   5717.157                           \n",
      "Bolivia                    1888.06                            \n",
      "Egypt                      2208.286                           \n",
      "Moldova                    1389.97                            \n",
      "Thailand                   4256.155                           \n",
      "Belarus                    4806.675                           \n",
      "Indonesia                  2392.012                           \n",
      "Jamaica                    4441.465                           \n",
      "Tunisia                    3611.317                           \n",
      "Dominican Republic         4716.147                           \n",
      "Ecuador                    4247.054                           \n",
      "Mozambique                 433.4407                           \n",
      "Ghana                      1052.579                           \n",
      "Namibia                    4110.474                           \n",
      "Togo                       458.0183                           \n",
      "Chile                      10619.5                            \n",
      "Malaysia                   7744.174                           \n",
      "Peru                       4307.305                           \n",
      "Fiji                       3876.087                           \n",
      "Mauritania                 995.2628                           \n",
      "Algeria                    3871.858                           \n",
      "Uganda                     467.4426                           \n",
      "South Africa               5632.408                           \n",
      "Turkey                     8925.36                            \n",
      "Angola                     2850.27                            \n",
      "Laos                       1090.816                           \n",
      "Russia                     8805.292                           \n",
      "Belize                     4270.713                           \n",
      "Cameroon                   1204.13                            \n",
      "Lebanon                    7146.178                           \n",
      "Comoros                    695.8247                           \n",
      "Morocco                    2474.517                           \n",
      "Israel                     27853.42                           \n",
      "Saudi Arabia               17388.06                           \n",
      "Guatemala                  2729.653                           \n",
      "India                      1078.78                            \n",
      "Albania                    3420.032                           \n",
      "Ethiopia                   336.2652                           \n",
      "Iran                       4718.888                           \n",
      "Norway                     76766.93                           \n",
      "Switzerland                67501.87                           \n",
      "United Kingdom             40548.2                            \n",
      "Brazil                     7891.743                           \n",
      "Rwanda                     474.2992                           \n",
      "Serbia                     4768.769                           \n",
      "Japan                      38747.42                           \n",
      "Mali                       622.9335                           \n",
      "Niger                      311.0183                           \n",
      "El Salvador                3328.152                           \n",
      "Sri Lanka                  2299.475                           \n",
      "Paraguay                   2805.401                           \n",
      "Afghanistan                414.7556                           \n",
      "Kenya                      879.088                            \n",
      "Trinidad and Tobago        14932.0                            \n",
      "Bahrain                    19911.23                           \n",
      "Bangladesh                 723.0046                           \n",
      "Zimbabwe                   676.1689                           \n",
      "North Macedonia            3983.926                           \n",
      "Kyrgyzstan                 810.3218                           \n",
      "Iceland                    47892.96                           \n",
      "Georgia                    2662.0                             \n",
      "Uruguay                    10016.05                           \n",
      "New Zealand                31350.67                           \n",
      "Pakistan                   987.1723                           \n",
      "Cambodia                   733.721                            \n",
      "Colombia                   5077.94                            \n",
      "Panama                     7916.254                           \n",
      "Qatar                      62703.78                           \n",
      "Sudan                      1321.12                            \n"
     ]
    }
   ],
   "source": [
    "qres = g.query(\n",
    "    \"\"\"\n",
    "    PREFIX xsd:  <http://www.w3.org/2001/XMLSchema#>\n",
    "    PREFIX geo:  <http://www.geonames.org/ontology#>\n",
    "    PREFIX my:   <http://my.uri/ontology/>\n",
    "    SELECT ?a ?c\n",
    "       WHERE {\n",
    "          ?count geo:name ?a .\n",
    "          ?count my:NY.GDP.PCAP.CD ?c .\n",
    "          MINUS{?count geo:parentFeature <https://sws.geonames.org/6695072/>}\n",
    "            \n",
    "       }\"\"\")\n",
    "\n",
    "print(\"{: <25}  {: <35}\".format(\"Country Name\",  \"Country ID\"))\n",
    "for row in qres:\n",
    "    print(\"{: <25}  {: <35}\".format(row[0], row[1]))"
   ]
  },
  {
   "source": [
    "Lets make a scenario. We want the total may vaccinations from the countries that have a GDP larger than the average European Union GDP (and don't belong in EU).\n",
    "First of all we want to calculate the average GDP of the countries in the EU. EU's Feuature ID is https://sws.geonames.org/6695072/, so we will use this to filter the query. We estimate the vaccination % by dividing the doses % by 2."
   ],
   "cell_type": "markdown",
   "metadata": {}
  },
  {
   "cell_type": "code",
   "execution_count": 30,
   "metadata": {},
   "outputs": [
    {
     "output_type": "stream",
     "name": "stdout",
     "text": [
      "Number of Countries        Average GDP                        \n27                         28666.84                           \n"
     ]
    }
   ],
   "source": [
    "qres = g.query(\n",
    "    \"\"\"\n",
    "    PREFIX xsd:  <http://www.w3.org/2001/XMLSchema#>\n",
    "    PREFIX geo:  <http://www.geonames.org/ontology#>\n",
    "    PREFIX my:   <http://my.uri/ontology/>\n",
    "    SELECT (COUNT(?a) as ?cnt) (AVG(?c) as ?avg)\n",
    "       WHERE {\n",
    "          ?count geo:name ?a .\n",
    "          ?count my:NY.GDP.PCAP.CD ?c .\n",
    "          ?count geo:parentFeature <https://sws.geonames.org/6695072/>       \n",
    "       }\"\"\")\n",
    "\n",
    "print(\"{: <25}  {: <35}\".format(\"Number of Countries\",  \"Average GDP\"))\n",
    "for row in qres:\n",
    "    print(\"{: <25}  {: <35}\".format(row[0], \"{:.2f}\".format(float(row[1]))))"
   ]
  },
  {
   "source": [
    "Next let's find the countries not in the EU, with their respective GDPs"
   ],
   "cell_type": "markdown",
   "metadata": {}
  },
  {
   "cell_type": "code",
   "execution_count": 31,
   "metadata": {},
   "outputs": [
    {
     "output_type": "stream",
     "name": "stdout",
     "text": [
      "Countries                  GDP                                \nUkraine                    2471.75                            \nMexico                     8646.15                            \nNicaragua                  1498.50                            \nArgentina                  8731.13                            \nAustralia                  44709.85                           \nHonduras                   1740.34                            \nNepal                      492.97                             \nKazakhstan                 7351.11                            \nCosta Rica                 7389.98                            \nCanada                     41053.51                           \nArmenia                    2690.33                            \nDjibouti                   1210.81                            \nAzerbaijan                 4218.52                            \nZambia                     1129.01                            \nPhilippines                1909.21                            \nVietnam                    1226.90                            \nSenegal                    882.28                             \nGuinea                     551.34                             \nBotswana                   5717.16                            \nBolivia                    1888.06                            \nEgypt                      2208.29                            \nMoldova                    1389.97                            \nThailand                   4256.15                            \nBelarus                    4806.68                            \nIndonesia                  2392.01                            \nJamaica                    4441.47                            \nTunisia                    3611.32                            \nDominican Republic         4716.15                            \nEcuador                    4247.05                            \nMozambique                 433.44                             \nGhana                      1052.58                            \nNamibia                    4110.47                            \nTogo                       458.02                             \nChile                      10619.50                           \nMalaysia                   7744.17                            \nPeru                       4307.31                            \nFiji                       3876.09                            \nMauritania                 995.26                             \nAlgeria                    3871.86                            \nUganda                     467.44                             \nSouth Africa               5632.41                            \nTurkey                     8925.36                            \nAngola                     2850.27                            \nLaos                       1090.82                            \nRussia                     8805.29                            \nBelize                     4270.71                            \nCameroon                   1204.13                            \nLebanon                    7146.18                            \nComoros                    695.82                             \nMorocco                    2474.52                            \nIsrael                     27853.42                           \nSaudi Arabia               17388.06                           \nGuatemala                  2729.65                            \nIndia                      1078.78                            \nAlbania                    3420.03                            \nEthiopia                   336.27                             \nIran                       4718.89                            \nNorway                     76766.93                           \nSwitzerland                67501.87                           \nUnited Kingdom             40548.20                           \nBrazil                     7891.74                            \nRwanda                     474.30                             \nSerbia                     4768.77                            \nJapan                      38747.42                           \nMali                       622.93                             \nNiger                      311.02                             \nEl Salvador                3328.15                            \nSri Lanka                  2299.47                            \nParaguay                   2805.40                            \nAfghanistan                414.76                             \nKenya                      879.09                             \nTrinidad and Tobago        14932.00                           \nBahrain                    19911.23                           \nBangladesh                 723.00                             \nZimbabwe                   676.17                             \nNorth Macedonia            3983.93                            \nKyrgyzstan                 810.32                             \nIceland                    47892.96                           \nGeorgia                    2662.00                            \nUruguay                    10016.05                           \nNew Zealand                31350.67                           \nPakistan                   987.17                             \nCambodia                   733.72                             \nColombia                   5077.94                            \nPanama                     7916.25                            \nQatar                      62703.78                           \nSudan                      1321.12                            \n"
     ]
    }
   ],
   "source": [
    "qres = g.query(\n",
    "    \"\"\"\n",
    "    PREFIX xsd:  <http://www.w3.org/2001/XMLSchema#>\n",
    "    PREFIX geo:  <http://www.geonames.org/ontology#>\n",
    "    PREFIX my:   <http://my.uri/ontology/>\n",
    "    SELECT ?a ?c\n",
    "       WHERE {\n",
    "          ?count geo:name ?a .\n",
    "          ?count my:NY.GDP.PCAP.CD ?c .\n",
    "          MINUS{?count geo:parentFeature <https://sws.geonames.org/6695072/>}       \n",
    "       }\"\"\")\n",
    "\n",
    "print(\"{: <25}  {: <35}\".format(\"Countries\",  \"GDP\"))\n",
    "for row in qres:\n",
    "    print(\"{: <25}  {: <35}\".format(row[0], \"{:.2f}\".format(float(row[1]))))"
   ]
  },
  {
   "source": [
    "Combining the queries above, we can now calculate the average May total vaccinations of EU countries vs non EU countries with higher GDP than the average EU country"
   ],
   "cell_type": "markdown",
   "metadata": {}
  },
  {
   "cell_type": "code",
   "execution_count": 33,
   "metadata": {},
   "outputs": [
    {
     "output_type": "stream",
     "name": "stdout",
     "text": [
      "Non EU countries with higher than average EU-GDP\n\nNumber of Countries        Average May vacc %                 \n9                          17.19                              \n"
     ]
    }
   ],
   "source": [
    "qres = g.query(\n",
    "    \"\"\"\n",
    "    PREFIX xsd:  <http://www.w3.org/2001/XMLSchema#>\n",
    "    PREFIX geo:  <http://www.geonames.org/ontology#>\n",
    "    PREFIX my:   <http://my.uri/ontology/>\n",
    "    SELECT (COUNT(?a) as ?cnt) (AVG(?res) as ?avg)\n",
    "       WHERE {\n",
    "          ?count geo:name ?a .\n",
    "          ?count my:NY.GDP.PCAP.CD ?c ;\n",
    "                 my:may_total_vaccinations ?vac .\n",
    "          MINUS{?count geo:parentFeature <https://sws.geonames.org/6695072/>}\n",
    "          FILTER(?c > 28666.8)\n",
    "          BIND((?vac / 2) AS ?res)\n",
    "       }\"\"\")\n",
    "\n",
    "\n",
    "print(\"Non EU countries with higher than average EU-GDP\\n\")\n",
    "print(\"{: <25}  {: <35}\".format(\"Number of Countries\",  \"Average May vacc %\"))\n",
    "for row in qres:\n",
    "    print(\"{: <25}  {: <35}\".format(row[0], \"{:.2f}\".format(float(row[1]))))"
   ]
  },
  {
   "cell_type": "code",
   "execution_count": 34,
   "metadata": {},
   "outputs": [
    {
     "output_type": "stream",
     "name": "stdout",
     "text": [
      "Non EU countries with lower than average EU-GDP\n\nNumber of Countries        Average May vacc %                 \n78                         5.09                               \n"
     ]
    }
   ],
   "source": [
    "qres = g.query(\n",
    "    \"\"\"\n",
    "    PREFIX xsd:  <http://www.w3.org/2001/XMLSchema#>\n",
    "    PREFIX geo:  <http://www.geonames.org/ontology#>\n",
    "    PREFIX my:   <http://my.uri/ontology/>\n",
    "    SELECT (COUNT(?a) as ?cnt) (AVG(?res) as ?avg)\n",
    "       WHERE {\n",
    "          ?count geo:name ?a .\n",
    "          ?count my:NY.GDP.PCAP.CD ?c ;\n",
    "                 my:may_total_vaccinations ?vac .\n",
    "          MINUS{?count geo:parentFeature <https://sws.geonames.org/6695072/>}\n",
    "          FILTER(?c < 28666.8)\n",
    "          BIND((?vac / 2) AS ?res)\n",
    "       }\"\"\")\n",
    "\n",
    "\n",
    "print(\"Non EU countries with lower than average EU-GDP\\n\")\n",
    "print(\"{: <25}  {: <35}\".format(\"Number of Countries\",  \"Average May vacc %\"))\n",
    "for row in qres:\n",
    "    print(\"{: <25}  {: <35}\".format(row[0], \"{:.2f}\".format(float(row[1]))))"
   ]
  },
  {
   "cell_type": "code",
   "execution_count": 36,
   "metadata": {},
   "outputs": [
    {
     "output_type": "stream",
     "name": "stdout",
     "text": [
      "EU countries\n\nNumber of Countries        Average May vacc %                 \n27                         18.08                              \n"
     ]
    }
   ],
   "source": [
    "qres = g.query(\n",
    "    \"\"\"\n",
    "    PREFIX xsd:  <http://www.w3.org/2001/XMLSchema#>\n",
    "    PREFIX geo:  <http://www.geonames.org/ontology#>\n",
    "    PREFIX my:   <http://my.uri/ontology/>\n",
    "    SELECT (COUNT(?a) as ?cnt) (AVG(?res) as ?avg)\n",
    "       WHERE {\n",
    "          ?count geo:name ?a .\n",
    "          ?count my:NY.GDP.PCAP.CD ?c ;\n",
    "                 my:may_total_vaccinations ?vac ;\n",
    "                 geo:parentFeature <https://sws.geonames.org/6695072/>\n",
    "          BIND((?vac / 2) AS ?res)\n",
    "       }\"\"\")\n",
    "\n",
    "print(\"EU countries\\n\")\n",
    "print(\"{: <25}  {: <35}\".format(\"Number of Countries\",  \"Average May vacc %\"))\n",
    "for row in qres:\n",
    "    print(\"{: <25}  {: <35}\".format(row[0], \"{:.2f}\".format(float(row[1]))))"
   ]
  },
  {
   "cell_type": "code",
   "execution_count": 37,
   "metadata": {},
   "outputs": [
    {
     "output_type": "stream",
     "name": "stdout",
     "text": [
      "EU countries with higher than average EU-GDP\n\nNumber of Countries        Average May vacc %                 \n11                         18.12                              \n"
     ]
    }
   ],
   "source": [
    "qres = g.query(\n",
    "    \"\"\"\n",
    "    PREFIX xsd:  <http://www.w3.org/2001/XMLSchema#>\n",
    "    PREFIX geo:  <http://www.geonames.org/ontology#>\n",
    "    PREFIX my:   <http://my.uri/ontology/>\n",
    "    SELECT (COUNT(?a) as ?cnt) (AVG(?res) as ?avg)\n",
    "       WHERE {\n",
    "          ?count geo:name ?a .\n",
    "          ?count my:NY.GDP.PCAP.CD ?c ;\n",
    "                 my:may_total_vaccinations ?vac ;\n",
    "                 geo:parentFeature <https://sws.geonames.org/6695072/>\n",
    "          FILTER(?c > 28666.8)\n",
    "          BIND((?vac / 2) AS ?res)\n",
    "       }\"\"\")\n",
    "\n",
    "\n",
    "print(\"EU countries with higher than average EU-GDP\\n\")\n",
    "print(\"{: <25}  {: <35}\".format(\"Number of Countries\",  \"Average May vacc %\"))\n",
    "for row in qres:\n",
    "    print(\"{: <25}  {: <35}\".format(row[0], \"{:.2f}\".format(float(row[1]))))"
   ]
  },
  {
   "source": [
    "Now we can find which countries of those 11 have higher than EU-average vaccination %"
   ],
   "cell_type": "markdown",
   "metadata": {}
  },
  {
   "cell_type": "code",
   "execution_count": 38,
   "metadata": {},
   "outputs": [
    {
     "output_type": "stream",
     "name": "stdout",
     "text": [
      "Non EU countries with higher than average EU-Vacc%\n\nNumber of Countries        Average May vacc %                 \nCanada                     19.74                              \nUnited Kingdom             37.69                              \nIceland                    24.47                              \nQatar                      29.98                              \n"
     ]
    }
   ],
   "source": [
    "qres = g.query(\n",
    "    \"\"\"\n",
    "    PREFIX xsd:  <http://www.w3.org/2001/XMLSchema#>\n",
    "    PREFIX geo:  <http://www.geonames.org/ontology#>\n",
    "    PREFIX my:   <http://my.uri/ontology/>\n",
    "    SELECT ?a ?res\n",
    "       WHERE {\n",
    "          ?count geo:name ?a .\n",
    "          ?count my:NY.GDP.PCAP.CD ?c ;\n",
    "                 my:may_total_vaccinations ?vac ;\n",
    "          MINUS{?count geo:parentFeature <https://sws.geonames.org/6695072/>}\n",
    "          FILTER(?c > 28666.8)\n",
    "          BIND((?vac / 2) AS ?res)\n",
    "          FILTER(?res > 18.07)\n",
    "       }\"\"\")\n",
    "\n",
    "\n",
    "print(\"Non EU countries with higher than average EU-GDP and EU-Vacc%\\n\")\n",
    "print(\"{: <25}  {: <35}\".format(\"Number of Countries\",  \"Average May vacc %\"))\n",
    "for row in qres:\n",
    "    print(\"{: <25}  {: <35}\".format(row[0], \"{:.2f}\".format(float(row[1]))))"
   ]
  },
  {
   "cell_type": "code",
   "execution_count": 40,
   "metadata": {},
   "outputs": [
    {
     "output_type": "stream",
     "name": "stdout",
     "text": [
      "Non EU countries with lower than average EU-GDP and higher EU-Vacc%\n\nNumber of Countries        Average May vacc %                 \nChile                      39.95                              \nIsrael                     60.43                              \nSerbia                     21.28                              \nBahrain                    39.00                              \nUruguay                    28.40                              \n"
     ]
    }
   ],
   "source": [
    "qres = g.query(\n",
    "    \"\"\"\n",
    "    PREFIX xsd:  <http://www.w3.org/2001/XMLSchema#>\n",
    "    PREFIX geo:  <http://www.geonames.org/ontology#>\n",
    "    PREFIX my:   <http://my.uri/ontology/>\n",
    "    SELECT ?a ?res\n",
    "       WHERE {\n",
    "          ?count geo:name ?a .\n",
    "          ?count my:NY.GDP.PCAP.CD ?c ;\n",
    "                 my:may_total_vaccinations ?vac ;\n",
    "          MINUS{?count geo:parentFeature <https://sws.geonames.org/6695072/>}\n",
    "          FILTER(?c < 28666.8)\n",
    "          BIND((?vac / 2) AS ?res)\n",
    "          FILTER(?res > 18.07)\n",
    "       }\"\"\")\n",
    "\n",
    "\n",
    "print(\"Non EU countries with lower than average EU-GDP and higher EU-Vacc%\\n\")\n",
    "print(\"{: <25}  {: <35}\".format(\"Number of Countries\",  \"Average May vacc %\"))\n",
    "for row in qres:\n",
    "    print(\"{: <25}  {: <35}\".format(row[0], \"{:.2f}\".format(float(row[1]))))"
   ]
  },
  {
   "cell_type": "code",
   "execution_count": null,
   "metadata": {},
   "outputs": [],
   "source": []
  }
 ]
}