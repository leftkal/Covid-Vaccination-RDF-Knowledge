{
 "metadata": {
  "language_info": {
   "codemirror_mode": {
    "name": "ipython",
    "version": 3
   },
   "file_extension": ".py",
   "mimetype": "text/x-python",
   "name": "python",
   "nbconvert_exporter": "python",
   "pygments_lexer": "ipython3",
   "version": "3.6.8"
  },
  "orig_nbformat": 2,
  "kernelspec": {
   "name": "python3",
   "display_name": "Python 3.6.8 64-bit"
  },
  "metadata": {
   "interpreter": {
    "hash": "9248261a3445304db021f29be6be5ef89305ade77e81d567579c1e894661b704"
   }
  },
  "interpreter": {
   "hash": "9248261a3445304db021f29be6be5ef89305ade77e81d567579c1e894661b704"
  }
 },
 "nbformat": 4,
 "nbformat_minor": 2,
 "cells": [
  {
   "cell_type": "code",
   "execution_count": 1,
   "metadata": {},
   "outputs": [],
   "source": [
    "from rdflib import Graph\n",
    "import pprint"
   ]
  },
  {
   "cell_type": "code",
   "execution_count": 2,
   "metadata": {},
   "outputs": [
    {
     "output_type": "execute_result",
     "data": {
      "text/plain": [
       "<Graph identifier=N053eeadca2214966ac2b7565fd83f4b6 (<class 'rdflib.graph.Graph'>)>"
      ]
     },
     "metadata": {},
     "execution_count": 2
    }
   ],
   "source": [
    "g = Graph()\n",
    "g.parse(\"outputs/output.txt\", format=\"turtle\")"
   ]
  },
  {
   "cell_type": "code",
   "execution_count": 3,
   "metadata": {},
   "outputs": [
    {
     "output_type": "stream",
     "name": "stdout",
     "text": [
      "Country Name              Parent Feature ID                     Country ID                         \n",
      "Τσεχία                    https://sws.geonames.org/12217848/    https://sws.geonames.org/3077311/  \n",
      "Αυστρία                   https://sws.geonames.org/12217848/    https://sws.geonames.org/2782113/  \n",
      "Σλοβακία                  https://sws.geonames.org/12217848/    https://sws.geonames.org/3057568/  \n",
      "Ουγγαρία                  https://sws.geonames.org/12217848/    https://sws.geonames.org/719819/   \n",
      "Γερμανία                  https://sws.geonames.org/12217848/    https://sws.geonames.org/2921044/  \n",
      "Πολωνία                   https://sws.geonames.org/12217848/    https://sws.geonames.org/798544/   \n",
      "Σλοβενία                  https://sws.geonames.org/12217848/    https://sws.geonames.org/3190538/  \n",
      "Μάλτα                     https://sws.geonames.org/6695072/     https://sws.geonames.org/2562770/  \n",
      "Ολλανδία                  https://sws.geonames.org/6695072/     https://sws.geonames.org/2750405/  \n",
      "Σλοβακία                  https://sws.geonames.org/6695072/     https://sws.geonames.org/3057568/  \n",
      "Ουγγαρία                  https://sws.geonames.org/6695072/     https://sws.geonames.org/719819/   \n",
      "Βουλγαρία                 https://sws.geonames.org/6695072/     https://sws.geonames.org/732800/   \n",
      "Αυστρία                   https://sws.geonames.org/6695072/     https://sws.geonames.org/2782113/  \n",
      "Ρουμανία                  https://sws.geonames.org/6695072/     https://sws.geonames.org/798549/   \n",
      "Ισπανία                   https://sws.geonames.org/6695072/     https://sws.geonames.org/2510769/  \n",
      "Γερμανία                  https://sws.geonames.org/6695072/     https://sws.geonames.org/2921044/  \n",
      "Πολωνία                   https://sws.geonames.org/6695072/     https://sws.geonames.org/798544/   \n",
      "Εσθονία                   https://sws.geonames.org/6695072/     https://sws.geonames.org/453733/   \n",
      "Λετονία                   https://sws.geonames.org/6695072/     https://sws.geonames.org/458258/   \n",
      "Λεττονία                  https://sws.geonames.org/6695072/     https://sws.geonames.org/458258/   \n",
      "Ellinikí Dhimokratía      https://sws.geonames.org/6695072/     https://sws.geonames.org/390903/   \n",
      "Ellinikí Dimokratía       https://sws.geonames.org/6695072/     https://sws.geonames.org/390903/   \n",
      "Ellás                     https://sws.geonames.org/6695072/     https://sws.geonames.org/390903/   \n",
      "Elláda                    https://sws.geonames.org/6695072/     https://sws.geonames.org/390903/   \n",
      "Vasilion tis Ellados      https://sws.geonames.org/6695072/     https://sws.geonames.org/390903/   \n",
      "Βέλγιο                    https://sws.geonames.org/6695072/     https://sws.geonames.org/2802361/  \n",
      "Κροατία                   https://sws.geonames.org/6695072/     https://sws.geonames.org/3202326/  \n",
      "Δημοκρατία της Ιρλανδίας  https://sws.geonames.org/6695072/     https://sws.geonames.org/2963597/  \n",
      "Ιρλανδία                  https://sws.geonames.org/6695072/     https://sws.geonames.org/2963597/  \n",
      "Σουηδία                   https://sws.geonames.org/6695072/     https://sws.geonames.org/2661886/  \n",
      "Σλοβενία                  https://sws.geonames.org/6695072/     https://sws.geonames.org/3190538/  \n",
      "Λουξεμβούργο              https://sws.geonames.org/6695072/     https://sws.geonames.org/2960313/  \n",
      "Γαλλία                    https://sws.geonames.org/6695072/     https://sws.geonames.org/3017382/  \n",
      "Τσεχία                    https://sws.geonames.org/6695072/     https://sws.geonames.org/3077311/  \n",
      "Πορτογαλία                https://sws.geonames.org/6695072/     https://sws.geonames.org/2264397/  \n",
      "Φινλανδία                 https://sws.geonames.org/6695072/     https://sws.geonames.org/660013/   \n",
      "Ιταλία                    https://sws.geonames.org/6695072/     https://sws.geonames.org/3175395/  \n",
      "Kipriakí Dhimokratía      https://sws.geonames.org/6695072/     https://sws.geonames.org/146669/   \n",
      "Kypriakí Dimokratía       https://sws.geonames.org/6695072/     https://sws.geonames.org/146669/   \n",
      "Κυπριακή Δημοκρατία       https://sws.geonames.org/6695072/     https://sws.geonames.org/146669/   \n",
      "Kýpros                    https://sws.geonames.org/6695072/     https://sws.geonames.org/146669/   \n",
      "Λιθουανία                 https://sws.geonames.org/6695072/     https://sws.geonames.org/597427/   \n",
      "Δανία                     https://sws.geonames.org/6695072/     https://sws.geonames.org/2623032/  \n",
      "Γερμανία                  https://sws.geonames.org/9408659/     https://sws.geonames.org/2921044/  \n",
      "Αυστρία                   https://sws.geonames.org/9408659/     https://sws.geonames.org/2782113/  \n",
      "Λουξεμβούργο              https://sws.geonames.org/9408659/     https://sws.geonames.org/2960313/  \n",
      "Γαλλία                    https://sws.geonames.org/9408659/     https://sws.geonames.org/3017382/  \n",
      "Βέλγιο                    https://sws.geonames.org/9408659/     https://sws.geonames.org/2802361/  \n",
      "Ολλανδία                  https://sws.geonames.org/9408659/     https://sws.geonames.org/2750405/  \n"
     ]
    }
   ],
   "source": [
    "qres = g.query(\n",
    "    \"\"\"\n",
    "    PREFIX xsd:  <http://www.w3.org/2001/XMLSchema#>\n",
    "    PREFIX geo:  <http://www.geonames.org/ontology#>\n",
    "    PREFIX my:   <http://my.uri/ontology/>\n",
    "    SELECT ?a ?b ?c\n",
    "       WHERE {\n",
    "          ?_ geo:name \"Germany\" ; \n",
    "           geo:parentFeature ?b .\n",
    "          ?c geo:parentFeature ?b .\n",
    "          ?c geo:alternateName ?a .\n",
    "          filter(lang(?a) = \"el\")\n",
    "       }\"\"\")\n",
    "\n",
    "print(\"{: <25} {: <35}   {: <35}\".format(\"Country Name\", \"Parent Feature ID\", \"Country ID\"))\n",
    "for row in qres:\n",
    "    print(\"{: <25} {: <35}   {: <35}\".format(row[0], row[1], row[2]))"
   ]
  },
  {
   "cell_type": "code",
   "execution_count": 4,
   "metadata": {},
   "outputs": [
    {
     "output_type": "stream",
     "name": "stdout",
     "text": [
      "Country Name              Population       Total May Vaccinations %\nSwitzerland               8665615          32.22          \nCzechia                   10712481         32.76          \nAustria                   9015361          38.36          \nSlovakia                  5460109          31.88          \nHungary                   9655983          66.99          \nGermany                   83830972         40.04          \nPoland                    37839255         34.45          \nSlovenia                  2078989          33.80          \n"
     ]
    }
   ],
   "source": [
    "qres = g.query(   \n",
    "    \"\"\"\n",
    "    PREFIX xsd:  <http://www.w3.org/2001/XMLSchema#>\n",
    "    PREFIX geo:  <http://www.geonames.org/ontology#>\n",
    "    PREFIX my:   <http://my.uri/ontology/>\n",
    "    SELECT ?a ?pop ?c\n",
    "       WHERE {\n",
    "          ?d geo:name ?a ;\n",
    "             geo:parentFeature <https://sws.geonames.org/12217848/> ;\n",
    "             my:population ?pop ;\n",
    "             my:may_total_vaccinations ?c .\n",
    "       }\"\"\")\n",
    "\n",
    "\n",
    "print(\"{: <25} {: <15}  {: <15}\".format(\"Country Name\", \"Population\", \"Total May Vaccinations %\"))\n",
    "for row in qres:\n",
    "    print(\"{: <25} {: <15}  {: <15}\".format(row[0], row[1], \"{:.2f}\".format(float(row[2]))))"
   ]
  },
  {
   "cell_type": "code",
   "execution_count": 5,
   "metadata": {},
   "outputs": [
    {
     "output_type": "stream",
     "name": "stdout",
     "text": [
      "Parent Feature ID                        Total Vaccinations         Total Population\n",
      "https://sws.geonames.org/9408658/        54636706                   148122497      \n",
      "https://sws.geonames.org/6695072/        164176267                  445294078      \n",
      "https://sws.geonames.org/12216908/       16112061                   60471243       \n",
      "https://sws.geonames.org/12217088/       116373164                  489091807      \n"
     ]
    }
   ],
   "source": [
    "qres = g.query(   \n",
    "    \"\"\"\n",
    "    PREFIX xsd:  <http://www.w3.org/2001/XMLSchema#>\n",
    "    PREFIX geo:  <http://www.geonames.org/ontology#>\n",
    "    PREFIX my:   <http://my.uri/ontology/>\n",
    "    SELECT DISTINCT ?b (SUM(?res) AS ?total_people) (SUM(?pop) as ?population)\n",
    "       WHERE {\n",
    "          ?_ geo:name \"Greece\" ; \n",
    "             geo:parentFeature ?b .\n",
    "          ?d geo:parentFeature ?b ;\n",
    "             my:may_total_vaccinations ?c ;\n",
    "             my:population ?pop .\n",
    "          BIND((?c*?pop/100) AS ?res)\n",
    "       }\n",
    "       GROUP BY ?b\"\"\")\n",
    "\n",
    "print(\"{: <40} {: <25}  {: <15}\".format(\"Parent Feature ID\", \"Total Vaccinations\", \"Total Population\"))\n",
    "for row in qres:\n",
    "    print(\"{: <40} {: <25}  {: <15}\".format(row[0], \"{:.0f}\".format(float(row[1])), row[2]))"
   ]
  },
  {
   "cell_type": "code",
   "execution_count": 6,
   "metadata": {},
   "outputs": [
    {
     "output_type": "stream",
     "name": "stdout",
     "text": [
      "Austria\nFrance\nLatvia\nLithuania\nSpain\nGermany\nItaly\nRomania\nNetherlands\nPoland\nBelgium\nCzechia\nSouth Africa\nUnited States\n"
     ]
    }
   ],
   "source": [
    "qres = g.query(   \n",
    "    \"\"\"\n",
    "    PREFIX xsd:  <http://www.w3.org/2001/XMLSchema#>\n",
    "    PREFIX geo:  <http://www.geonames.org/ontology#>\n",
    "    PREFIX my:   <http://my.uri/ontology/>\n",
    "    SELECT ?a\n",
    "       WHERE {\n",
    "          ?b my:Johnson 1 .\n",
    "          ?b geo:name ?a\n",
    "       }\"\"\")\n",
    "\n",
    "for row in qres:\n",
    "    print(row[0])"
   ]
  },
  {
   "cell_type": "code",
   "execution_count": null,
   "metadata": {},
   "outputs": [],
   "source": []
  }
 ]
}